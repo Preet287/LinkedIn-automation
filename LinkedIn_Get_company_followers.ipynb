{
 "cells": [
  {
   "cell_type": "markdown",
   "id": "41d093e4-217a-4cc9-8156-97adb91a311a",
   "metadata": {
    "execution": {
     "iopub.execute_input": "2022-06-14T09:35:14.294463Z",
     "iopub.status.busy": "2022-06-14T09:35:14.294230Z",
     "iopub.status.idle": "2022-06-14T09:35:14.307066Z",
     "shell.execute_reply": "2022-06-14T09:35:14.306006Z",
     "shell.execute_reply.started": "2022-06-14T09:35:14.294440Z"
    },
    "papermill": {},
    "tags": []
   },
   "source": [
    "**Available columns :**\n",
    "- FIRSTNAME : First name\n",
    "- LASTNAME : Last name\n",
    "- OCCUPATION : Text below the name in the profile page\n",
    "- PROFILE_PICTURE : Profile picture URL\n",
    "- PROFILE_URL : Profile URL\n",
    "- PROFILE_ID : LinkedIn profile id\n",
    "- PUBLIC_ID : LinkedIn public profile id\n",
    "- FOLLOWED_AT : Date of following company\n",
    "- DISTANCE : Distance between your profile"
   ]
  },
  {
   "cell_type": "markdown",
   "id": "normal-rochester",
   "metadata": {
    "papermill": {},
    "tags": []
   },
   "source": [
    "## Input"
   ]
  },
  {
   "cell_type": "markdown",
   "id": "import_cell",
   "metadata": {
    "papermill": {},
    "tags": []
   },
   "source": [
    "### Import libraries"
   ]
  },
  {
   "cell_type": "code",
   "execution_count": null,
   "id": "recreational-season",
   "metadata": {
    "papermill": {},
    "tags": []
   },
   "outputs": [],
   "source": [
    "from naas_drivers import linkedin\n",
    "import pandas as pd\n",
    "import naas"
   ]
  },
  {
   "cell_type": "code",
   "execution_count": null,
   "id": "yellow-footage",
   "metadata": {
    "papermill": {},
    "tags": []
   },
   "outputs": [],
   "source": [
    "# Credentials\n",
    "LI_AT = naas.secret.get(\n",
    "    \"LI_AT\"\n",
    ")  # EXAMPLE AQFAzQN_PLPR4wAAAXc-FCKmgiMit5FLdY1af3-2\n",
    "JSESSIONID = None or naas.secret.get(\"JSESSIONID\")  # EXAMPLE ajax:8379907400220387585\n",
    "\n",
    "# Company URL\n",
    "COMPANY_URL = \"https://www.linkedin.com/company/naas-ai/\""
   ]
  },
  {
   "cell_type": "markdown",
   "id": "66b77860-a95b-486c-a153-9cab521de365",
   "metadata": {
    "papermill": {},
    "tags": []
   },
   "source": [
    "### Setup Variables"
   ]
  },
  {
   "cell_type": "code",
   "execution_count": null,
   "id": "63ba2bd2-cc65-4ddf-8d01-42460006a159",
   "metadata": {
    "papermill": {},
    "tags": []
   },
   "outputs": [],
   "source": [
    "# Inputs\n",
    "company_name = COMPANY_URL.strip().split(\"company/\")[-1].split(\"/\")[0]\n",
    "csv_input = f\"LINKEDIN_COMPANY_FOLLOWERS_{company_name}.csv\"\n",
    "print(csv_input)"
   ]
  },
  {
   "cell_type": "markdown",
   "id": "419962a4-8cf7-4f38-96b4-eca16b61be3b",
   "metadata": {
    "papermill": {},
    "tags": []
   },
   "source": [
    "### Setup Naas scheduler"
   ]
  },
  {
   "cell_type": "code",
   "execution_count": null,
   "id": "82a3db04-6303-473e-a735-fc74f9f773dc",
   "metadata": {
    "papermill": {},
    "tags": []
   },
   "outputs": [],
   "source": [
    "# Schedule your notebook everyday at 9:00 AM\n",
    "naas.scheduler.add(cron=\"0 9 * * *\")\n",
    "\n",
    "# -> Uncomment the line below to remove your scheduler\n",
    "# naas.scheduler.delete()"
   ]
  },
  {
   "cell_type": "markdown",
   "id": "pediatric-emerald",
   "metadata": {
    "papermill": {},
    "tags": []
   },
   "source": [
    "## Model"
   ]
  },
  {
   "cell_type": "markdown",
   "id": "differential-agenda",
   "metadata": {
    "execution": {
     "iopub.execute_input": "2021-05-15T10:12:55.887028Z",
     "iopub.status.busy": "2021-05-15T10:12:55.886761Z",
     "iopub.status.idle": "2021-05-15T10:12:55.899441Z",
     "shell.execute_reply": "2021-05-15T10:12:55.898476Z",
     "shell.execute_reply.started": "2021-05-15T10:12:55.886964Z"
    },
    "papermill": {},
    "tags": []
   },
   "source": [
    "### Get followers from company"
   ]
  },
  {
   "cell_type": "code",
   "execution_count": null,
   "id": "8b27df3a-166a-4f05-836c-aec268a5a9d5",
   "metadata": {
    "papermill": {},
    "tags": []
   },
   "outputs": [],
   "source": [
    "# Get company followers from CSV stored in your local (Returns empty if CSV does not exist)\n",
    "def get_company_followers(file_path):\n",
    "    try:\n",
    "        df = pd.read_csv(file_path)\n",
    "    except FileNotFoundError as e:\n",
    "        # Empty dataframe returned\n",
    "        return pd.DataFrame()\n",
    "    return df\n",
    "\n",
    "\n",
    "df_followers = get_company_followers(csv_input)\n",
    "df_followers               "
   ]
  },
  {
   "cell_type": "markdown",
   "id": "230ef804-d024-481a-b165-c4ee1ef7b2fb",
   "metadata": {
    "papermill": {},
    "tags": []
   },
   "source": [
    "### Update followers"
   ]
  },
  {
   "cell_type": "code",
   "execution_count": null,
   "id": "eb4b0e94-614a-4a6f-b631-811c4a4b4122",
   "metadata": {
    "papermill": {},
    "tags": []
   },
   "outputs": [],
   "source": [
    "def update_connections(df, file_path, key=None):\n",
    "    # Init output\n",
    "    df_update = pd.DataFrame()\n",
    "\n",
    "    # Init df posts is empty then return entire database\n",
    "    if len(df) > 0:\n",
    "        # If dataframe not empty, get last connections\n",
    "        profiles = df[key].unique()\n",
    "        start = 0\n",
    "        count = 1\n",
    "        linkedin_conn = linkedin.connect(LI_AT, JSESSIONID)\n",
    "        if linkedin_conn:\n",
    "            while True:\n",
    "                tmp_new = linkedin_conn.company.get_followers(\n",
    "                    start=start, count=count, limit=count\n",
    "                )\n",
    "                # Check if existing profile in each call\n",
    "                tmp_new = tmp_new[~tmp_new.PROFILE_ID.isin(profiles)]\n",
    "                df_update = pd.concat([df_update, tmp_new])\n",
    "                if len(tmp_new) == 0:\n",
    "                    break\n",
    "\n",
    "                # Get more profile\n",
    "                start += count\n",
    "            print(f\"-> New followers fetched: {len(df_update)}.\")\n",
    "    else:\n",
    "        linkedin_conn = linkedin.connect(LI_AT, JSESSIONID)\n",
    "        if linkedin_conn:\n",
    "            df_update = linkedin_conn.company.get_followers(\n",
    "                count=100, limit=-1\n",
    "            )\n",
    "\n",
    "    # Concat data\n",
    "    df = pd.concat([df_update, df]).drop_duplicates(key, keep=\"first\")\n",
    "    return df.reset_index(drop=True)\n",
    "\n",
    "df_update = update_connections(df_followers, csv_input, key=\"PROFILE_ID\")\n",
    "print(df_update)"
   ]
  },
  {
   "cell_type": "markdown",
   "id": "piano-stylus",
   "metadata": {
    "papermill": {},
    "tags": []
   },
   "source": [
    "## Output"
   ]
  },
  {
   "cell_type": "markdown",
   "id": "601fd6f5-1ab5-46c3-a553-dbcc45b9ec9d",
   "metadata": {
    "papermill": {},
    "tags": []
   },
   "source": [
    "### Save dataframe in CSV"
   ]
  },
  {
   "cell_type": "code",
   "execution_count": null,
   "id": "1aae73cc-4622-487f-b173-76d83cd47acd",
   "metadata": {
    "papermill": {},
    "tags": []
   },
   "outputs": [],
   "source": [
    "df_update.to_csv(csv_input, index=False)"
   ]
  },
  {
   "cell_type": "markdown",
   "id": "micro-funds",
   "metadata": {
    "papermill": {},
    "tags": []
   },
   "source": [
    "### Add dependency to production"
   ]
  },
  {
   "cell_type": "code",
   "execution_count": null,
   "id": "threaded-minister",
   "metadata": {
    "papermill": {},
    "tags": []
   },
   "outputs": [],
   "source": [
    "naas.dependency.add(csv_input)"
   ]
  }
 ],
 "metadata": {
  "kernelspec": {
   "display_name": "Python 3",
   "language": "python",
   "name": "python3"
  },
  "language_info": {
   "codemirror_mode": {
    "name": "ipython",
    "version": 3
   },
   "file_extension": ".py",
   "mimetype": "text/x-python",
   "name": "python",
   "nbconvert_exporter": "python",
   "pygments_lexer": "ipython3",
   "version": "3.9.6"
  },
  "naas": {
   "notebook_id": "eb94b13f89163a7980a2cf632af1e207573c35271920d52121659af1d90e0aa5",
   "notebook_path": "LinkedIn/LinkedIn_Get_company_followers.ipynb"
  },
  "papermill": {
   "default_parameters": {},
   "environment_variables": {},
   "parameters": {},
   "version": "2.3.3"
  },
  "widgets": {
   "application/vnd.jupyter.widget-state+json": {
    "state": {},
    "version_major": 2,
    "version_minor": 0
   }
  }
 },
 "nbformat": 4,
 "nbformat_minor": 5
}
