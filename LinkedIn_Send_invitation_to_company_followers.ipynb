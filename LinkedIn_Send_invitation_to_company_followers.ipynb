{
 "cells": [
  {
   "cell_type": "markdown",
   "id": "normal-rochester",
   "metadata": {
    "papermill": {},
    "tags": []
   },
   "source": [
    "## Input"
   ]
  },
  {
   "cell_type": "markdown",
   "id": "import_cell",
   "metadata": {
    "papermill": {},
    "tags": []
   },
   "source": [
    "### Import library"
   ]
  },
  {
   "cell_type": "code",
   "execution_count": null,
   "id": "recreational-season",
   "metadata": {
    "papermill": {},
    "tags": []
   },
   "outputs": [],
   "source": [
    "from naas_drivers import linkedin\n",
    "import pandas as pd\n",
    "from datetime import datetime\n",
    "import naas\n",
    "import plotly.graph_objects as go\n",
    "import os"
   ]
  },
  {
   "cell_type": "code",
   "execution_count": null,
   "id": "yellow-footage",
   "metadata": {
    "papermill": {},
    "tags": []
   },
   "outputs": [],
   "source": [
    "# Credentials\n",
    "LI_AT = \"YOUR_COOKIE_LI_AT\"  # EXAMPLE AQFAzQN_PLPR4wAAAXc-FCKmgiMit5FLdY1af3-2\n",
    "JSESSIONID = \"YOUR_COOKIE_JSESSIONID\"  # EXAMPLE ajax:8379907400220387585\n",
    "\n",
    "# Company URL\n",
    "COMPANY_URL = \"https://www.linkedin.com/company/naas-ai/\"\n",
    "\n",
    "# LinkedIn limit invitations up to 100 per week (Becareful !)\n",
    "LIMIT = 10"
   ]
  },
  {
   "cell_type": "markdown",
   "id": "66b77860-a95b-486c-a153-9cab521de365",
   "metadata": {
    "papermill": {},
    "tags": []
   },
   "source": [
    "### Setup variables"
   ]
  },
  {
   "cell_type": "code",
   "execution_count": null,
   "id": "63ba2bd2-cc65-4ddf-8d01-42460006a159",
   "metadata": {
    "papermill": {},
    "tags": []
   },
   "outputs": [],
   "source": [
    "# Inputs\n",
    "csv_input = \"LinkedIn_company_followers.csv\"\n",
    "\n",
    "# Outputs\n",
    "csv_contact = \"LINKEDIN_EXISTING_CONTACT.csv\"  # CSV to manage and remove profile already in your contact\n",
    "csv_not_valid = \"LINKEDIN_NOT_VALID.csv\"  # CSV to manage URL not valid\n",
    "csv_invitation = \"LINKEDIN_INVITATIONS_SENT.csv\"  # CSV to store invitations sent"
   ]
  },
  {
   "cell_type": "markdown",
   "id": "ec12b890-c407-4147-a877-354c0eab21c2",
   "metadata": {
    "papermill": {},
    "tags": []
   },
   "source": [
    "### Setup Naas"
   ]
  },
  {
   "cell_type": "code",
   "execution_count": null,
   "id": "26cf5d15-f0a2-4f38-a02a-f53ec20bbdf6",
   "metadata": {
    "papermill": {},
    "tags": []
   },
   "outputs": [],
   "source": [
    "# Schedule your notebook everyday at 9:00 AM\n",
    "naas.scheduler.add(cron=\"0 9 * * *\")\n",
    "\n",
    "# -> Uncomment the line below to remove your scheduler\n",
    "# naas.scheduler.delete()"
   ]
  },
  {
   "cell_type": "markdown",
   "id": "pediatric-emerald",
   "metadata": {
    "papermill": {},
    "tags": []
   },
   "source": [
    "## Model"
   ]
  },
  {
   "cell_type": "markdown",
   "id": "differential-agenda",
   "metadata": {
    "execution": {
     "iopub.execute_input": "2021-05-15T10:12:55.887028Z",
     "iopub.status.busy": "2021-05-15T10:12:55.886761Z",
     "iopub.status.idle": "2021-05-15T10:12:55.899441Z",
     "shell.execute_reply": "2021-05-15T10:12:55.898476Z",
     "shell.execute_reply.started": "2021-05-15T10:12:55.886964Z"
    },
    "papermill": {},
    "tags": []
   },
   "source": [
    "### Get followers from company"
   ]
  },
  {
   "cell_type": "code",
   "execution_count": null,
   "id": "8b27df3a-166a-4f05-836c-aec268a5a9d5",
   "metadata": {
    "papermill": {},
    "tags": []
   },
   "outputs": [],
   "source": [
    "# Get company followers from CSV stored in your local (Returns empty if CSV does not exist)\n",
    "def get_company_followers(file_path):\n",
    "    try:\n",
    "        df = pd.read_csv(file_path)\n",
    "    except FileNotFoundError as e:\n",
    "        # Empty dataframe returned\n",
    "        return pd.DataFrame()\n",
    "    return df\n",
    "\n",
    "\n",
    "df_followers = get_company_followers(csv_input)\n",
    "df_followers"
   ]
  },
  {
   "cell_type": "code",
   "execution_count": null,
   "id": "eb4b0e94-614a-4a6f-b631-811c4a4b4122",
   "metadata": {
    "papermill": {},
    "tags": []
   },
   "outputs": [],
   "source": [
    "def get_new_followers(df, input_path):\n",
    "    # Get all profiles\n",
    "    profiles = []\n",
    "    if len(df) > 0:\n",
    "        profiles = df.PROFILE_ID.unique()\n",
    "    start = 0\n",
    "    while True:\n",
    "        tmp_df = linkedin.connect(LI_AT, JSESSIONID).company.get_followers(\n",
    "            COMPANY_URL, start=start, limit=1, sleep=False\n",
    "        )\n",
    "        profile_id = None\n",
    "        if \"PROFILE_ID\" in tmp_df.columns:\n",
    "            profile_id = tmp_df.loc[0, \"PROFILE_ID\"]\n",
    "        if profile_id in profiles:\n",
    "            break\n",
    "        else:\n",
    "            df = pd.concat([tmp_df, df])\n",
    "            df.to_csv(input_path, index=False)\n",
    "            start += 1\n",
    "    return df.reset_index(drop=True)\n",
    "\n",
    "\n",
    "merged_df = get_new_followers(df_followers, csv_input)\n",
    "merged_df"
   ]
  },
  {
   "cell_type": "markdown",
   "id": "963ffdc2-eb5c-4b31-9b1e-cf7842e20374",
   "metadata": {
    "papermill": {},
    "tags": []
   },
   "source": [
    "### Get LinkedIn invitations sent"
   ]
  },
  {
   "cell_type": "code",
   "execution_count": null,
   "id": "68ea26fd-88f4-4703-9c9a-8148d05fa340",
   "metadata": {
    "papermill": {},
    "tags": []
   },
   "outputs": [],
   "source": [
    "df_lk_invitations = linkedin.connect(LI_AT, JSESSIONID).invitation.get_sent()\n",
    "df_lk_invitations"
   ]
  },
  {
   "cell_type": "markdown",
   "id": "af9e19f3-cb92-468b-8327-e5c7a320cbf0",
   "metadata": {
    "papermill": {},
    "tags": []
   },
   "source": [
    "### Get profile checked and already in your network"
   ]
  },
  {
   "cell_type": "code",
   "execution_count": null,
   "id": "fd3324f3-3e84-49aa-9aea-f0df4e4ebdb0",
   "metadata": {
    "papermill": {},
    "tags": []
   },
   "outputs": [],
   "source": [
    "def get_csv(output_path):\n",
    "    df = pd.DataFrame()\n",
    "    if os.path.exists(output_path):\n",
    "        df = pd.read_csv(output_path).drop_duplicates()\n",
    "    return df"
   ]
  },
  {
   "cell_type": "code",
   "execution_count": null,
   "id": "e9eb3221-7883-4141-ae0a-4bfe1a42ebac",
   "metadata": {
    "papermill": {},
    "tags": []
   },
   "outputs": [],
   "source": [
    "df_contacts = get_csv(csv_contact)\n",
    "df_contacts"
   ]
  },
  {
   "cell_type": "markdown",
   "id": "e33f3a33-e66b-41b7-bb31-5894c8f81cf8",
   "metadata": {
    "papermill": {},
    "tags": []
   },
   "source": [
    "### Get invitations sent (CSV)\n",
    "Public ID can be different between what we get from LinkedIn and from your source URL.<br>\n",
    "So we need to double check invitations sent with a CSV stored on your local"
   ]
  },
  {
   "cell_type": "code",
   "execution_count": null,
   "id": "61b9db5d-2240-4dd7-b298-0f47dc05cce7",
   "metadata": {
    "papermill": {},
    "tags": []
   },
   "outputs": [],
   "source": [
    "df_csv_invitations = get_csv(csv_invitation)\n",
    "df_csv_invitations"
   ]
  },
  {
   "cell_type": "markdown",
   "id": "81cb9bc7-db62-4684-a4e4-de86e36059c3",
   "metadata": {
    "papermill": {},
    "tags": []
   },
   "source": [
    "### Get new invitation\n",
    "- Clean Notion database to get valid URL\n",
    "- Remove profile when already invited"
   ]
  },
  {
   "cell_type": "code",
   "execution_count": null,
   "id": "7500d443-61a9-491b-af41-5507fc00337a",
   "metadata": {
    "papermill": {},
    "tags": []
   },
   "outputs": [],
   "source": [
    "def get_new_invitations(df, df_lk_invitations, df_csv_invitations, df_contacts):\n",
    "\n",
    "    # Get list of pending LinkedIn invitations\n",
    "    pending_lk_invitations = []\n",
    "    if len(df_lk_invitations) > 0:\n",
    "        pending_lk_invitations = df_lk_invitations[\"PUBLIC_ID\"].unique().tolist()\n",
    "    print(\"❌ Pending LinkedIn invitations :\", len(pending_lk_invitations))\n",
    "\n",
    "    # Get list of CSV invitations\n",
    "    pending_csv_invitations = []\n",
    "    if len(df_csv_invitations) > 0:\n",
    "        pending_csv_invitations = df_csv_invitations[\"PUBLIC_ID\"].unique().tolist()\n",
    "    print(\"❌ Pending CSV invitations :\", len(pending_csv_invitations))\n",
    "\n",
    "    # Get profile already in network\n",
    "    contacts = []\n",
    "    if len(df_contacts) > 0:\n",
    "        contacts = df_contacts[\"PUBLIC_ID\"].unique().tolist()\n",
    "    print(\"❌ Already in network :\", len(contacts))\n",
    "\n",
    "    # Remove pending invitations / already in network / not valid profile from dataframe\n",
    "    exclude = pending_lk_invitations + pending_csv_invitations + contacts\n",
    "    df = df[~df[\"PUBLIC_ID\"].isin(exclude)].dropna().reset_index(drop=True)\n",
    "    print(\"➡️ New invitation:\", len(df))\n",
    "    return df\n",
    "\n",
    "\n",
    "df_new_invitations = get_new_invitations(\n",
    "    merged_df, df_lk_invitations, df_csv_invitations, df_contacts\n",
    ")\n",
    "df_new_invitations"
   ]
  },
  {
   "cell_type": "markdown",
   "id": "4e85b7e9-fe28-4796-a65d-fe577db0994e",
   "metadata": {
    "papermill": {},
    "tags": []
   },
   "source": [
    "### Send invitation"
   ]
  },
  {
   "cell_type": "code",
   "execution_count": null,
   "id": "eb8c91fb-4b01-4462-b1ac-244ff873fcfe",
   "metadata": {
    "papermill": {},
    "tags": []
   },
   "outputs": [],
   "source": [
    "def send_invitation(df, df_contacts=None, df_csv_invitations=None):\n",
    "    # Check if new invitations to perform\n",
    "    if len(df) == 0:\n",
    "        print(\"🤙 No new invitations to send\")\n",
    "        return df\n",
    "\n",
    "    # Setup variables\n",
    "    if df_contacts is None:\n",
    "        df_contacts = pd.DataFrame()\n",
    "    if df_csv_invitations is None:\n",
    "        df_csv_invitations = pd.DataFrame()\n",
    "\n",
    "    # Loop\n",
    "    count = 1\n",
    "    df.PROFILE_ID = df.PROFILE_ID.fillna(0)\n",
    "    for index, row in df.iterrows():\n",
    "        df_network = pd.DataFrame()\n",
    "        profile = row[\"PUBLIC_ID\"]\n",
    "        print(f\"➡️ Checking :\", profile)\n",
    "\n",
    "        # Get distance with profile\n",
    "        if profile != 0:\n",
    "            df_network = linkedin.connect(LI_AT, JSESSIONID).profile.get_network(\n",
    "                profile\n",
    "            )\n",
    "\n",
    "        # Check if profile is already in your network\n",
    "        if len(df_network) > 0:\n",
    "            distance = df_network.loc[0, \"DISTANCE\"]\n",
    "            # If not profile in network...\n",
    "            if distance not in [\"SELF\", \"DISTANCE_1\"]:\n",
    "                # => send invitation\n",
    "                try:\n",
    "                    linkedin.connect(LI_AT, JSESSIONID).invitation.send(\n",
    "                        recipient_url=profile\n",
    "                    )\n",
    "                    print(count, \"- 🙌 Invitation successfully sent\")\n",
    "                    df_csv_invitations = pd.concat([df_csv_invitations, df_network])\n",
    "                    df_csv_invitations.to_csv(csv_invitation, index=False)\n",
    "                except Exception as e:\n",
    "                    print(\"❌ Invitation not sent\", e)\n",
    "                count += 1\n",
    "            else:\n",
    "                # If profile already in your network => append network result to CSV existing contact to not check it again\n",
    "                df_contacts = pd.concat([df_contacts, df_network])\n",
    "                df_contacts.to_csv(csv_contact, index=False)\n",
    "                print(f\"👍 Already in my network, 💾 saved in CSV\")\n",
    "\n",
    "        # Manage LinkedIn limit\n",
    "        if count > LIMIT:\n",
    "            print(\"⚠️ LinkedIn invitation limit reached\", LIMIT)\n",
    "            return df_csv_invitations\n",
    "    return df_csv_invitations\n",
    "\n",
    "\n",
    "df_csv_invitations = send_invitation(\n",
    "    df_new_invitations, df_contacts, df_csv_invitations\n",
    ")"
   ]
  },
  {
   "cell_type": "markdown",
   "id": "piano-stylus",
   "metadata": {
    "papermill": {},
    "tags": []
   },
   "source": [
    "## Output"
   ]
  },
  {
   "cell_type": "markdown",
   "id": "6ea4c039-311b-4a34-beb7-ab75816b59e2",
   "metadata": {
    "papermill": {},
    "tags": []
   },
   "source": [
    "### Save company followers in CSV"
   ]
  },
  {
   "cell_type": "code",
   "execution_count": null,
   "id": "88df94ea-234c-4dd0-a47b-9b2a6904e946",
   "metadata": {
    "papermill": {},
    "tags": []
   },
   "outputs": [],
   "source": [
    "if len(merged_df) > 0:\n",
    "    merged_df.to_csv(csv_input, index=False)\n",
    "    naas.dependency.add(csv_input)"
   ]
  },
  {
   "cell_type": "markdown",
   "id": "micro-funds",
   "metadata": {
    "papermill": {},
    "tags": []
   },
   "source": [
    "### Display invitations sent"
   ]
  },
  {
   "cell_type": "code",
   "execution_count": null,
   "id": "threaded-minister",
   "metadata": {
    "papermill": {},
    "tags": []
   },
   "outputs": [],
   "source": [
    "df_csv_invitations"
   ]
  },
  {
   "cell_type": "code",
   "execution_count": null,
   "id": "0caf02ab-5698-4f4c-b9fa-06cef412cffc",
   "metadata": {
    "papermill": {},
    "tags": []
   },
   "outputs": [],
   "source": []
  }
 ],
 "metadata": {
  "kernelspec": {
   "display_name": "Python 3",
   "language": "python",
   "name": "python3"
  },
  "language_info": {
   "codemirror_mode": {
    "name": "ipython",
    "version": 3
   },
   "file_extension": ".py",
   "mimetype": "text/x-python",
   "name": "python",
   "nbconvert_exporter": "python",
   "pygments_lexer": "ipython3",
   "version": "3.9.6"
  },
  "naas": {
   "notebook_id": "b6b084bb3f63093ac35b2d2ddee1537e97e5aa2c5f288f5f1b68baf1871c3eae",
   "notebook_path": "LinkedIn/LinkedIn_Send_invitation_to_company_followers.ipynb"
  },
  "papermill": {
   "default_parameters": {},
   "environment_variables": {},
   "parameters": {},
   "version": "2.3.3"
  },
  "widgets": {
   "application/vnd.jupyter.widget-state+json": {
    "state": {},
    "version_major": 2,
    "version_minor": 0
   }
  }
 },
 "nbformat": 4,
 "nbformat_minor": 5
}
